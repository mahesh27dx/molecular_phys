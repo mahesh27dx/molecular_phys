{
 "cells": [
  {
   "cell_type": "markdown",
   "metadata": {},
   "source": [
    "# Homework 3\n",
    "## Submitted by : Mahesh Yadav"
   ]
  },
  {
   "cell_type": "markdown",
   "metadata": {},
   "source": [
    "### Task 1: Topologies"
   ]
  },
  {
   "cell_type": "markdown",
   "metadata": {},
   "source": [
    "#### Print the coordinates and explain the shape of the returned array"
   ]
  },
  {
   "cell_type": "code",
   "execution_count": 1,
   "metadata": {},
   "outputs": [],
   "source": [
    "import numpy as np\n",
    "import mdtraj as md"
   ]
  },
  {
   "cell_type": "code",
   "execution_count": 2,
   "metadata": {},
   "outputs": [
    {
     "data": {
      "text/plain": [
       "<mdtraj.Trajectory with 1 frames, 22 atoms, 3 residues, and unitcells at 0x7fbb007f98b0>"
      ]
     },
     "execution_count": 2,
     "metadata": {},
     "output_type": "execute_result"
    }
   ],
   "source": [
    "coord = md.load('alanine-dipeptide-nowater.pdb')\n",
    "coord"
   ]
  },
  {
   "cell_type": "markdown",
   "metadata": {},
   "source": [
    "The file has 22 atoms in 1 frame."
   ]
  },
  {
   "cell_type": "code",
   "execution_count": 3,
   "metadata": {},
   "outputs": [
    {
     "data": {
      "text/html": [
       "<div>\n",
       "<style scoped>\n",
       "    .dataframe tbody tr th:only-of-type {\n",
       "        vertical-align: middle;\n",
       "    }\n",
       "\n",
       "    .dataframe tbody tr th {\n",
       "        vertical-align: top;\n",
       "    }\n",
       "\n",
       "    .dataframe thead th {\n",
       "        text-align: right;\n",
       "    }\n",
       "</style>\n",
       "<table border=\"1\" class=\"dataframe\">\n",
       "  <thead>\n",
       "    <tr style=\"text-align: right;\">\n",
       "      <th></th>\n",
       "      <th>serial</th>\n",
       "      <th>name</th>\n",
       "      <th>element</th>\n",
       "      <th>resSeq</th>\n",
       "      <th>resName</th>\n",
       "      <th>chainID</th>\n",
       "      <th>segmentID</th>\n",
       "    </tr>\n",
       "  </thead>\n",
       "  <tbody>\n",
       "    <tr>\n",
       "      <th>0</th>\n",
       "      <td>1</td>\n",
       "      <td>H1</td>\n",
       "      <td>H</td>\n",
       "      <td>1</td>\n",
       "      <td>ACE</td>\n",
       "      <td>0</td>\n",
       "      <td></td>\n",
       "    </tr>\n",
       "    <tr>\n",
       "      <th>1</th>\n",
       "      <td>2</td>\n",
       "      <td>CH3</td>\n",
       "      <td>C</td>\n",
       "      <td>1</td>\n",
       "      <td>ACE</td>\n",
       "      <td>0</td>\n",
       "      <td></td>\n",
       "    </tr>\n",
       "    <tr>\n",
       "      <th>2</th>\n",
       "      <td>3</td>\n",
       "      <td>H2</td>\n",
       "      <td>H</td>\n",
       "      <td>1</td>\n",
       "      <td>ACE</td>\n",
       "      <td>0</td>\n",
       "      <td></td>\n",
       "    </tr>\n",
       "    <tr>\n",
       "      <th>3</th>\n",
       "      <td>4</td>\n",
       "      <td>H3</td>\n",
       "      <td>H</td>\n",
       "      <td>1</td>\n",
       "      <td>ACE</td>\n",
       "      <td>0</td>\n",
       "      <td></td>\n",
       "    </tr>\n",
       "    <tr>\n",
       "      <th>4</th>\n",
       "      <td>5</td>\n",
       "      <td>C</td>\n",
       "      <td>C</td>\n",
       "      <td>1</td>\n",
       "      <td>ACE</td>\n",
       "      <td>0</td>\n",
       "      <td></td>\n",
       "    </tr>\n",
       "    <tr>\n",
       "      <th>5</th>\n",
       "      <td>6</td>\n",
       "      <td>O</td>\n",
       "      <td>O</td>\n",
       "      <td>1</td>\n",
       "      <td>ACE</td>\n",
       "      <td>0</td>\n",
       "      <td></td>\n",
       "    </tr>\n",
       "    <tr>\n",
       "      <th>6</th>\n",
       "      <td>7</td>\n",
       "      <td>N</td>\n",
       "      <td>N</td>\n",
       "      <td>2</td>\n",
       "      <td>ALA</td>\n",
       "      <td>0</td>\n",
       "      <td></td>\n",
       "    </tr>\n",
       "    <tr>\n",
       "      <th>7</th>\n",
       "      <td>8</td>\n",
       "      <td>H</td>\n",
       "      <td>H</td>\n",
       "      <td>2</td>\n",
       "      <td>ALA</td>\n",
       "      <td>0</td>\n",
       "      <td></td>\n",
       "    </tr>\n",
       "    <tr>\n",
       "      <th>8</th>\n",
       "      <td>9</td>\n",
       "      <td>CA</td>\n",
       "      <td>C</td>\n",
       "      <td>2</td>\n",
       "      <td>ALA</td>\n",
       "      <td>0</td>\n",
       "      <td></td>\n",
       "    </tr>\n",
       "    <tr>\n",
       "      <th>9</th>\n",
       "      <td>10</td>\n",
       "      <td>HA</td>\n",
       "      <td>H</td>\n",
       "      <td>2</td>\n",
       "      <td>ALA</td>\n",
       "      <td>0</td>\n",
       "      <td></td>\n",
       "    </tr>\n",
       "    <tr>\n",
       "      <th>10</th>\n",
       "      <td>11</td>\n",
       "      <td>CB</td>\n",
       "      <td>C</td>\n",
       "      <td>2</td>\n",
       "      <td>ALA</td>\n",
       "      <td>0</td>\n",
       "      <td></td>\n",
       "    </tr>\n",
       "    <tr>\n",
       "      <th>11</th>\n",
       "      <td>12</td>\n",
       "      <td>HB1</td>\n",
       "      <td>H</td>\n",
       "      <td>2</td>\n",
       "      <td>ALA</td>\n",
       "      <td>0</td>\n",
       "      <td></td>\n",
       "    </tr>\n",
       "    <tr>\n",
       "      <th>12</th>\n",
       "      <td>13</td>\n",
       "      <td>HB2</td>\n",
       "      <td>H</td>\n",
       "      <td>2</td>\n",
       "      <td>ALA</td>\n",
       "      <td>0</td>\n",
       "      <td></td>\n",
       "    </tr>\n",
       "    <tr>\n",
       "      <th>13</th>\n",
       "      <td>14</td>\n",
       "      <td>HB3</td>\n",
       "      <td>H</td>\n",
       "      <td>2</td>\n",
       "      <td>ALA</td>\n",
       "      <td>0</td>\n",
       "      <td></td>\n",
       "    </tr>\n",
       "    <tr>\n",
       "      <th>14</th>\n",
       "      <td>15</td>\n",
       "      <td>C</td>\n",
       "      <td>C</td>\n",
       "      <td>2</td>\n",
       "      <td>ALA</td>\n",
       "      <td>0</td>\n",
       "      <td></td>\n",
       "    </tr>\n",
       "    <tr>\n",
       "      <th>15</th>\n",
       "      <td>16</td>\n",
       "      <td>O</td>\n",
       "      <td>O</td>\n",
       "      <td>2</td>\n",
       "      <td>ALA</td>\n",
       "      <td>0</td>\n",
       "      <td></td>\n",
       "    </tr>\n",
       "    <tr>\n",
       "      <th>16</th>\n",
       "      <td>17</td>\n",
       "      <td>N</td>\n",
       "      <td>N</td>\n",
       "      <td>3</td>\n",
       "      <td>NME</td>\n",
       "      <td>0</td>\n",
       "      <td></td>\n",
       "    </tr>\n",
       "    <tr>\n",
       "      <th>17</th>\n",
       "      <td>18</td>\n",
       "      <td>H</td>\n",
       "      <td>H</td>\n",
       "      <td>3</td>\n",
       "      <td>NME</td>\n",
       "      <td>0</td>\n",
       "      <td></td>\n",
       "    </tr>\n",
       "    <tr>\n",
       "      <th>18</th>\n",
       "      <td>19</td>\n",
       "      <td>C</td>\n",
       "      <td>C</td>\n",
       "      <td>3</td>\n",
       "      <td>NME</td>\n",
       "      <td>0</td>\n",
       "      <td></td>\n",
       "    </tr>\n",
       "    <tr>\n",
       "      <th>19</th>\n",
       "      <td>20</td>\n",
       "      <td>H1</td>\n",
       "      <td>H</td>\n",
       "      <td>3</td>\n",
       "      <td>NME</td>\n",
       "      <td>0</td>\n",
       "      <td></td>\n",
       "    </tr>\n",
       "    <tr>\n",
       "      <th>20</th>\n",
       "      <td>21</td>\n",
       "      <td>H2</td>\n",
       "      <td>H</td>\n",
       "      <td>3</td>\n",
       "      <td>NME</td>\n",
       "      <td>0</td>\n",
       "      <td></td>\n",
       "    </tr>\n",
       "    <tr>\n",
       "      <th>21</th>\n",
       "      <td>22</td>\n",
       "      <td>H3</td>\n",
       "      <td>H</td>\n",
       "      <td>3</td>\n",
       "      <td>NME</td>\n",
       "      <td>0</td>\n",
       "      <td></td>\n",
       "    </tr>\n",
       "  </tbody>\n",
       "</table>\n",
       "</div>"
      ],
      "text/plain": [
       "    serial name element  resSeq resName  chainID segmentID\n",
       "0        1   H1       H       1     ACE        0          \n",
       "1        2  CH3       C       1     ACE        0          \n",
       "2        3   H2       H       1     ACE        0          \n",
       "3        4   H3       H       1     ACE        0          \n",
       "4        5    C       C       1     ACE        0          \n",
       "5        6    O       O       1     ACE        0          \n",
       "6        7    N       N       2     ALA        0          \n",
       "7        8    H       H       2     ALA        0          \n",
       "8        9   CA       C       2     ALA        0          \n",
       "9       10   HA       H       2     ALA        0          \n",
       "10      11   CB       C       2     ALA        0          \n",
       "11      12  HB1       H       2     ALA        0          \n",
       "12      13  HB2       H       2     ALA        0          \n",
       "13      14  HB3       H       2     ALA        0          \n",
       "14      15    C       C       2     ALA        0          \n",
       "15      16    O       O       2     ALA        0          \n",
       "16      17    N       N       3     NME        0          \n",
       "17      18    H       H       3     NME        0          \n",
       "18      19    C       C       3     NME        0          \n",
       "19      20   H1       H       3     NME        0          \n",
       "20      21   H2       H       3     NME        0          \n",
       "21      22   H3       H       3     NME        0          "
      ]
     },
     "execution_count": 3,
     "metadata": {},
     "output_type": "execute_result"
    }
   ],
   "source": [
    "coord = md.load('alanine-dipeptide-nowater.pdb')\n",
    "atoms, bonds = coord.topology.to_dataframe()\n",
    "atoms"
   ]
  },
  {
   "cell_type": "code",
   "execution_count": 4,
   "metadata": {},
   "outputs": [
    {
     "name": "stdout",
     "output_type": "stream",
     "text": [
      "[[ 3.2250e-01  2.7427e+00  2.5660e-01]\n",
      " [ 3.7200e-01  2.6570e+00  2.1100e-01]\n",
      " [ 4.0880e-01  2.5905e+00  2.8910e-01]\n",
      " [ 4.5570e-01  2.6914e+00  1.5020e-01]\n",
      " [ 2.7700e-01  2.5800e+00  1.2300e-01]\n",
      " [ 1.6000e-01  2.6150e+00  1.0900e-01]\n",
      " [ 3.2700e-01  2.4640e+00  6.9000e-02]\n",
      " [ 4.2590e-01  2.4471e+00  8.1000e-02]\n",
      " [ 2.4800e-01  2.3690e+00 -1.9000e-02]\n",
      " [ 1.7330e-01  2.4315e+00 -6.7900e-02]\n",
      " [ 3.4700e-01  2.3160e+00 -1.2700e-01]\n",
      " [ 4.2190e-01  2.2525e+00 -7.9700e-02]\n",
      " [ 2.9220e-01  2.2582e+00 -2.0140e-01]\n",
      " [ 3.9630e-01  2.4002e+00 -1.7560e-01]\n",
      " [ 1.7300e-01  2.2590e+00  4.9000e-02]\n",
      " [ 2.3400e-01  2.1880e+00  1.2800e-01]\n",
      " [ 4.0000e-02  2.2430e+00  2.1000e-02]\n",
      " [-8.0000e-04  2.3118e+00 -4.0700e-02]\n",
      " [-4.7000e-02  2.1350e+00  7.3000e-02]\n",
      " [ 1.1200e-02  2.0693e+00  1.3760e-01]\n",
      " [-1.2900e-01  2.1786e+00  1.3000e-01]\n",
      " [-8.7300e-02  2.0775e+00 -1.0300e-02]]\n"
     ]
    }
   ],
   "source": [
    "print(coord.xyz[0])"
   ]
  },
  {
   "cell_type": "markdown",
   "metadata": {},
   "source": [
    "The shape represents the number of frames, number of atoms and three coordinates ($x,y,z$) for each atom. So, the shape (1,22,3) means, that we have one frame, 22 atoms and each atoms have three cartesian coordinates."
   ]
  },
  {
   "cell_type": "markdown",
   "metadata": {},
   "source": [
    "#### Print a list of all heavy atoms (i.e. everything else than hydrogen) with their indices, names and elements."
   ]
  },
  {
   "cell_type": "code",
   "execution_count": 5,
   "metadata": {},
   "outputs": [
    {
     "data": {
      "text/html": [
       "<div>\n",
       "<style scoped>\n",
       "    .dataframe tbody tr th:only-of-type {\n",
       "        vertical-align: middle;\n",
       "    }\n",
       "\n",
       "    .dataframe tbody tr th {\n",
       "        vertical-align: top;\n",
       "    }\n",
       "\n",
       "    .dataframe thead th {\n",
       "        text-align: right;\n",
       "    }\n",
       "</style>\n",
       "<table border=\"1\" class=\"dataframe\">\n",
       "  <thead>\n",
       "    <tr style=\"text-align: right;\">\n",
       "      <th></th>\n",
       "      <th>serial</th>\n",
       "      <th>name</th>\n",
       "      <th>element</th>\n",
       "      <th>resSeq</th>\n",
       "      <th>resName</th>\n",
       "      <th>chainID</th>\n",
       "      <th>segmentID</th>\n",
       "    </tr>\n",
       "  </thead>\n",
       "  <tbody>\n",
       "    <tr>\n",
       "      <th>1</th>\n",
       "      <td>2</td>\n",
       "      <td>CH3</td>\n",
       "      <td>C</td>\n",
       "      <td>1</td>\n",
       "      <td>ACE</td>\n",
       "      <td>0</td>\n",
       "      <td></td>\n",
       "    </tr>\n",
       "    <tr>\n",
       "      <th>4</th>\n",
       "      <td>5</td>\n",
       "      <td>C</td>\n",
       "      <td>C</td>\n",
       "      <td>1</td>\n",
       "      <td>ACE</td>\n",
       "      <td>0</td>\n",
       "      <td></td>\n",
       "    </tr>\n",
       "    <tr>\n",
       "      <th>5</th>\n",
       "      <td>6</td>\n",
       "      <td>O</td>\n",
       "      <td>O</td>\n",
       "      <td>1</td>\n",
       "      <td>ACE</td>\n",
       "      <td>0</td>\n",
       "      <td></td>\n",
       "    </tr>\n",
       "    <tr>\n",
       "      <th>6</th>\n",
       "      <td>7</td>\n",
       "      <td>N</td>\n",
       "      <td>N</td>\n",
       "      <td>2</td>\n",
       "      <td>ALA</td>\n",
       "      <td>0</td>\n",
       "      <td></td>\n",
       "    </tr>\n",
       "    <tr>\n",
       "      <th>8</th>\n",
       "      <td>9</td>\n",
       "      <td>CA</td>\n",
       "      <td>C</td>\n",
       "      <td>2</td>\n",
       "      <td>ALA</td>\n",
       "      <td>0</td>\n",
       "      <td></td>\n",
       "    </tr>\n",
       "    <tr>\n",
       "      <th>10</th>\n",
       "      <td>11</td>\n",
       "      <td>CB</td>\n",
       "      <td>C</td>\n",
       "      <td>2</td>\n",
       "      <td>ALA</td>\n",
       "      <td>0</td>\n",
       "      <td></td>\n",
       "    </tr>\n",
       "    <tr>\n",
       "      <th>14</th>\n",
       "      <td>15</td>\n",
       "      <td>C</td>\n",
       "      <td>C</td>\n",
       "      <td>2</td>\n",
       "      <td>ALA</td>\n",
       "      <td>0</td>\n",
       "      <td></td>\n",
       "    </tr>\n",
       "    <tr>\n",
       "      <th>15</th>\n",
       "      <td>16</td>\n",
       "      <td>O</td>\n",
       "      <td>O</td>\n",
       "      <td>2</td>\n",
       "      <td>ALA</td>\n",
       "      <td>0</td>\n",
       "      <td></td>\n",
       "    </tr>\n",
       "    <tr>\n",
       "      <th>16</th>\n",
       "      <td>17</td>\n",
       "      <td>N</td>\n",
       "      <td>N</td>\n",
       "      <td>3</td>\n",
       "      <td>NME</td>\n",
       "      <td>0</td>\n",
       "      <td></td>\n",
       "    </tr>\n",
       "    <tr>\n",
       "      <th>18</th>\n",
       "      <td>19</td>\n",
       "      <td>C</td>\n",
       "      <td>C</td>\n",
       "      <td>3</td>\n",
       "      <td>NME</td>\n",
       "      <td>0</td>\n",
       "      <td></td>\n",
       "    </tr>\n",
       "  </tbody>\n",
       "</table>\n",
       "</div>"
      ],
      "text/plain": [
       "    serial name element  resSeq resName  chainID segmentID\n",
       "1        2  CH3       C       1     ACE        0          \n",
       "4        5    C       C       1     ACE        0          \n",
       "5        6    O       O       1     ACE        0          \n",
       "6        7    N       N       2     ALA        0          \n",
       "8        9   CA       C       2     ALA        0          \n",
       "10      11   CB       C       2     ALA        0          \n",
       "14      15    C       C       2     ALA        0          \n",
       "15      16    O       O       2     ALA        0          \n",
       "16      17    N       N       3     NME        0          \n",
       "18      19    C       C       3     NME        0          "
      ]
     },
     "execution_count": 5,
     "metadata": {},
     "output_type": "execute_result"
    }
   ],
   "source": [
    "atoms.loc[atoms.element != 'H']"
   ]
  },
  {
   "cell_type": "markdown",
   "metadata": {},
   "source": [
    "#### Function to calculate two angles $\\phi$ and $\\psi$"
   ]
  },
  {
   "cell_type": "markdown",
   "metadata": {},
   "source": [
    "The dihedral angles can be calculated from the bond vectors by using the atan2 function :\n",
    "$$\n",
    "\\phi = arctan2(|\\vec{u}_2| \\vec{u}_1 . (\\vec{u}_2 \\times \\vec{u}_3), (\\vec{u}_1 \\times \\vec{u}_2). (\\vec{u}_2) \\times \\vec{u}_3))\n",
    "$$\n",
    "The bond vectors can be calculated from the position vectors:\n",
    "$$\n",
    "\\vec{u}_1 = \\vec{r}_2 - \\vec{r}_1\n",
    "\\vec{u}_2 = \\vec{r}_3 - \\vec{r}_2\n",
    "\\vec{u}_3 = \\vec{r}_4 - \\vec{r}_3\n",
    "$$\n",
    "The $\\phi$ angle is the dihedral angle between the first C, the first N, the $C \\alpha $ and the second C (C-N-CA-C). The $\\psi$ angle is the dihedral angle between the first N, the $C\\alpha$, the second C and the second N (N-CA-C-N)."
   ]
  },
  {
   "cell_type": "code",
   "execution_count": 6,
   "metadata": {},
   "outputs": [],
   "source": [
    "def new_dihedral(p):\n",
    "    p0 = p[0]\n",
    "    p1 = p[1]\n",
    "    p2 = p[2]\n",
    "    p3 = p[3]\n",
    "\n",
    "    b0 = -1.0*(p1 - p0)\n",
    "    b1 = p2 - p1\n",
    "    b2 = p3 - p2\n",
    "\n",
    "    b1 /= np.linalg.norm(b1) # normalize b1 so that it does not influence magnitude of vector\n",
    "\n",
    "    v = b0 - np.dot(b0, b1)*b1\n",
    "    w = b2 - np.dot(b2, b1)*b1\n",
    "\n",
    "    x = np.dot(v, w)\n",
    "    y = np.dot(np.cross(b1, v), w)\n",
    "    return np.degrees(np.arctan2(y, x))"
   ]
  },
  {
   "cell_type": "code",
   "execution_count": 7,
   "metadata": {},
   "outputs": [
    {
     "data": {
      "text/plain": [
       "-89.99751167369577"
      ]
     },
     "execution_count": 7,
     "metadata": {},
     "output_type": "execute_result"
    }
   ],
   "source": [
    "# Defining the coordinates for the calculation of angle phi\n",
    "p0 = np.array([2.77, 25.8, 1.23]) # C (indices 4)\n",
    "p1 = np.array([3.27, 24.64, 0.69]) # N (indices 6)\n",
    "p2 = np.array([2.48, 23.69, -0.19]) # CA (indices 8) \n",
    "p3 = np.array([1.73, 22.59, 0.49])  # C (indices 14)\n",
    "new_dihedral(np.array([p0, p1, p2, p3]))"
   ]
  },
  {
   "cell_type": "markdown",
   "metadata": {},
   "source": [
    "Now we can compare this to the output of the MDtraj output :"
   ]
  },
  {
   "cell_type": "code",
   "execution_count": 8,
   "metadata": {},
   "outputs": [
    {
     "data": {
      "text/plain": [
       "(array([[ 4,  6,  8, 14]]), array([[-1.570752]], dtype=float32))"
      ]
     },
     "execution_count": 8,
     "metadata": {},
     "output_type": "execute_result"
    }
   ],
   "source": [
    "md.compute_phi(coord )"
   ]
  },
  {
   "cell_type": "markdown",
   "metadata": {},
   "source": [
    "The angle $-89.99^{\\circ}$-> $-1.57$ radians. We can see that both methods gives the same result. Now we can check for the angle $\\psi$ "
   ]
  },
  {
   "cell_type": "code",
   "execution_count": 9,
   "metadata": {},
   "outputs": [
    {
     "data": {
      "text/plain": [
       "127.80945216370573"
      ]
     },
     "execution_count": 9,
     "metadata": {},
     "output_type": "execute_result"
    }
   ],
   "source": [
    "# Defining the coordinates for the calculation of angle psi\n",
    "p0 = np.array([3.27, 24.64, 0.69]) # N (indices 6)\n",
    "p1 = np.array([2.48, 23.69, -0.19]) # CA (indices 8)\n",
    "p2 = np.array([1.73, 22.59, 0.49]) # C (indices 14)\n",
    "p3 = np.array([0.4, 22.43, 0.21])  # N (indices 16)\n",
    "new_dihedral(np.array([p0, p1, p2, p3]))"
   ]
  },
  {
   "cell_type": "markdown",
   "metadata": {},
   "source": [
    "Convering $127.80^{\\circ} = 2.23 $ radians.  "
   ]
  },
  {
   "cell_type": "code",
   "execution_count": 10,
   "metadata": {},
   "outputs": [
    {
     "data": {
      "text/plain": [
       "(array([[ 6,  8, 14, 16]]), array([[2.230696]], dtype=float32))"
      ]
     },
     "execution_count": 10,
     "metadata": {},
     "output_type": "execute_result"
    }
   ],
   "source": [
    "md.compute_psi(coord )"
   ]
  },
  {
   "cell_type": "markdown",
   "metadata": {},
   "source": [
    "We can see that both methods gives exactly the same results."
   ]
  },
  {
   "cell_type": "markdown",
   "metadata": {},
   "source": [
    "### Distances between the heavy atoms that forms a bond."
   ]
  },
  {
   "cell_type": "code",
   "execution_count": 11,
   "metadata": {},
   "outputs": [
    {
     "name": "stderr",
     "output_type": "stream",
     "text": [
      "<ipython-input-11-11d011b51002>:1: VisibleDeprecationWarning: Creating an ndarray from ragged nested sequences (which is a list-or-tuple of lists-or-tuples-or ndarrays with different lengths or shapes) is deprecated. If you meant to do this, you must specify 'dtype=object' when creating the ndarray\n",
      "  h1 = np.array([[4.259, 24,471], [0.81, -0.008, 23.118, -0.407]])\n"
     ]
    },
    {
     "ename": "ValueError",
     "evalue": "atom_pairs must be ndim 2. You supplied 1",
     "output_type": "error",
     "traceback": [
      "\u001b[0;31m---------------------------------------------------------------------------\u001b[0m",
      "\u001b[0;31mValueError\u001b[0m                                Traceback (most recent call last)",
      "\u001b[0;32m<ipython-input-11-11d011b51002>\u001b[0m in \u001b[0;36m<module>\u001b[0;34m\u001b[0m\n\u001b[1;32m      1\u001b[0m \u001b[0mh1\u001b[0m \u001b[0;34m=\u001b[0m \u001b[0mnp\u001b[0m\u001b[0;34m.\u001b[0m\u001b[0marray\u001b[0m\u001b[0;34m(\u001b[0m\u001b[0;34m[\u001b[0m\u001b[0;34m[\u001b[0m\u001b[0;36m4.259\u001b[0m\u001b[0;34m,\u001b[0m \u001b[0;36m24\u001b[0m\u001b[0;34m,\u001b[0m\u001b[0;36m471\u001b[0m\u001b[0;34m]\u001b[0m\u001b[0;34m,\u001b[0m \u001b[0;34m[\u001b[0m\u001b[0;36m0.81\u001b[0m\u001b[0;34m,\u001b[0m \u001b[0;34m-\u001b[0m\u001b[0;36m0.008\u001b[0m\u001b[0;34m,\u001b[0m \u001b[0;36m23.118\u001b[0m\u001b[0;34m,\u001b[0m \u001b[0;34m-\u001b[0m\u001b[0;36m0.407\u001b[0m\u001b[0;34m]\u001b[0m\u001b[0;34m]\u001b[0m\u001b[0;34m)\u001b[0m\u001b[0;34m\u001b[0m\u001b[0;34m\u001b[0m\u001b[0m\n\u001b[1;32m      2\u001b[0m \u001b[0;31m#h2 = np.array([-0.008, 23.118, -0.407])\u001b[0m\u001b[0;34m\u001b[0m\u001b[0;34m\u001b[0m\u001b[0;34m\u001b[0m\u001b[0m\n\u001b[0;32m----> 3\u001b[0;31m \u001b[0mmd\u001b[0m\u001b[0;34m.\u001b[0m\u001b[0mcompute_distances\u001b[0m\u001b[0;34m(\u001b[0m\u001b[0mcoord\u001b[0m\u001b[0;34m,\u001b[0m \u001b[0mh1\u001b[0m\u001b[0;34m)\u001b[0m\u001b[0;34m\u001b[0m\u001b[0;34m\u001b[0m\u001b[0m\n\u001b[0m",
      "\u001b[0;32m~/opt/anaconda3/lib/python3.8/site-packages/mdtraj/geometry/distance.py\u001b[0m in \u001b[0;36mcompute_distances\u001b[0;34m(traj, atom_pairs, periodic, opt)\u001b[0m\n\u001b[1;32m     60\u001b[0m     \"\"\"\n\u001b[1;32m     61\u001b[0m     \u001b[0mxyz\u001b[0m \u001b[0;34m=\u001b[0m \u001b[0mensure_type\u001b[0m\u001b[0;34m(\u001b[0m\u001b[0mtraj\u001b[0m\u001b[0;34m.\u001b[0m\u001b[0mxyz\u001b[0m\u001b[0;34m,\u001b[0m \u001b[0mdtype\u001b[0m\u001b[0;34m=\u001b[0m\u001b[0mnp\u001b[0m\u001b[0;34m.\u001b[0m\u001b[0mfloat32\u001b[0m\u001b[0;34m,\u001b[0m \u001b[0mndim\u001b[0m\u001b[0;34m=\u001b[0m\u001b[0;36m3\u001b[0m\u001b[0;34m,\u001b[0m \u001b[0mname\u001b[0m\u001b[0;34m=\u001b[0m\u001b[0;34m'traj.xyz'\u001b[0m\u001b[0;34m,\u001b[0m \u001b[0mshape\u001b[0m\u001b[0;34m=\u001b[0m\u001b[0;34m(\u001b[0m\u001b[0;32mNone\u001b[0m\u001b[0;34m,\u001b[0m \u001b[0;32mNone\u001b[0m\u001b[0;34m,\u001b[0m \u001b[0;36m3\u001b[0m\u001b[0;34m)\u001b[0m\u001b[0;34m,\u001b[0m \u001b[0mwarn_on_cast\u001b[0m\u001b[0;34m=\u001b[0m\u001b[0;32mFalse\u001b[0m\u001b[0;34m)\u001b[0m\u001b[0;34m\u001b[0m\u001b[0;34m\u001b[0m\u001b[0m\n\u001b[0;32m---> 62\u001b[0;31m     \u001b[0mpairs\u001b[0m \u001b[0;34m=\u001b[0m \u001b[0mensure_type\u001b[0m\u001b[0;34m(\u001b[0m\u001b[0matom_pairs\u001b[0m\u001b[0;34m,\u001b[0m \u001b[0mdtype\u001b[0m\u001b[0;34m=\u001b[0m\u001b[0mnp\u001b[0m\u001b[0;34m.\u001b[0m\u001b[0mint32\u001b[0m\u001b[0;34m,\u001b[0m \u001b[0mndim\u001b[0m\u001b[0;34m=\u001b[0m\u001b[0;36m2\u001b[0m\u001b[0;34m,\u001b[0m \u001b[0mname\u001b[0m\u001b[0;34m=\u001b[0m\u001b[0;34m'atom_pairs'\u001b[0m\u001b[0;34m,\u001b[0m \u001b[0mshape\u001b[0m\u001b[0;34m=\u001b[0m\u001b[0;34m(\u001b[0m\u001b[0;32mNone\u001b[0m\u001b[0;34m,\u001b[0m \u001b[0;36m2\u001b[0m\u001b[0;34m)\u001b[0m\u001b[0;34m,\u001b[0m \u001b[0mwarn_on_cast\u001b[0m\u001b[0;34m=\u001b[0m\u001b[0;32mFalse\u001b[0m\u001b[0;34m)\u001b[0m\u001b[0;34m\u001b[0m\u001b[0;34m\u001b[0m\u001b[0m\n\u001b[0m\u001b[1;32m     63\u001b[0m     \u001b[0;32mif\u001b[0m \u001b[0;32mnot\u001b[0m \u001b[0mnp\u001b[0m\u001b[0;34m.\u001b[0m\u001b[0mall\u001b[0m\u001b[0;34m(\u001b[0m\u001b[0mnp\u001b[0m\u001b[0;34m.\u001b[0m\u001b[0mlogical_and\u001b[0m\u001b[0;34m(\u001b[0m\u001b[0mpairs\u001b[0m \u001b[0;34m<\u001b[0m \u001b[0mtraj\u001b[0m\u001b[0;34m.\u001b[0m\u001b[0mn_atoms\u001b[0m\u001b[0;34m,\u001b[0m \u001b[0mpairs\u001b[0m \u001b[0;34m>=\u001b[0m \u001b[0;36m0\u001b[0m\u001b[0;34m)\u001b[0m\u001b[0;34m)\u001b[0m\u001b[0;34m:\u001b[0m\u001b[0;34m\u001b[0m\u001b[0;34m\u001b[0m\u001b[0m\n\u001b[1;32m     64\u001b[0m         \u001b[0;32mraise\u001b[0m \u001b[0mValueError\u001b[0m\u001b[0;34m(\u001b[0m\u001b[0;34m'atom_pairs must be between 0 and %d'\u001b[0m \u001b[0;34m%\u001b[0m \u001b[0mtraj\u001b[0m\u001b[0;34m.\u001b[0m\u001b[0mn_atoms\u001b[0m\u001b[0;34m)\u001b[0m\u001b[0;34m\u001b[0m\u001b[0;34m\u001b[0m\u001b[0m\n",
      "\u001b[0;32m~/opt/anaconda3/lib/python3.8/site-packages/mdtraj/utils/validation.py\u001b[0m in \u001b[0;36mensure_type\u001b[0;34m(val, dtype, ndim, name, length, can_be_none, shape, warn_on_cast, add_newaxis_on_deficient_ndim)\u001b[0m\n\u001b[1;32m    120\u001b[0m             \u001b[0mval\u001b[0m \u001b[0;34m=\u001b[0m \u001b[0mval\u001b[0m\u001b[0;34m[\u001b[0m\u001b[0mnp\u001b[0m\u001b[0;34m.\u001b[0m\u001b[0mnewaxis\u001b[0m\u001b[0;34m,\u001b[0m \u001b[0;34m...\u001b[0m\u001b[0;34m]\u001b[0m\u001b[0;34m\u001b[0m\u001b[0;34m\u001b[0m\u001b[0m\n\u001b[1;32m    121\u001b[0m         \u001b[0;32melse\u001b[0m\u001b[0;34m:\u001b[0m\u001b[0;34m\u001b[0m\u001b[0;34m\u001b[0m\u001b[0m\n\u001b[0;32m--> 122\u001b[0;31m             raise ValueError((\"%s must be ndim %s. \"\n\u001b[0m\u001b[1;32m    123\u001b[0m                 \"You supplied %s\" % (name, ndim, val.ndim)))\n\u001b[1;32m    124\u001b[0m \u001b[0;34m\u001b[0m\u001b[0m\n",
      "\u001b[0;31mValueError\u001b[0m: atom_pairs must be ndim 2. You supplied 1"
     ]
    }
   ],
   "source": [
    "h1 = np.array([[4.259, 24,471], [0.81, -0.008, 23.118, -0.407]])\n",
    "#h2 = np.array([-0.008, 23.118, -0.407])\n",
    "md.compute_distances(coord, h1)"
   ]
  },
  {
   "cell_type": "markdown",
   "metadata": {},
   "source": [
    "The harmonic bond potential can be used to to approximate the atom-atom distance. The equation that describes the potential energy of the system is given as\n",
    "$$\n",
    "V_{B} = k(r_{ij} - r_0)\n",
    "$$\n",
    "$r_0$ is the reference bond length and $r_{ij}$ is the distance between atom $i$ and $j$.  "
   ]
  },
  {
   "cell_type": "markdown",
   "metadata": {},
   "source": [
    "## Task 2 : Trajectories"
   ]
  },
  {
   "cell_type": "markdown",
   "metadata": {},
   "source": [
    "Load the example .xtc file with mdtraj. Calculate the root mean square deviation(RMSD) to the topology pdb time for the first 1000 steps of each trajectory."
   ]
  },
  {
   "cell_type": "code",
   "execution_count": 1,
   "metadata": {},
   "outputs": [
    {
     "name": "stderr",
     "output_type": "stream",
     "text": [
      "/Users/mahesh/opt/anaconda3/lib/python3.8/site-packages/mdshare/repository.py:53: YAMLLoadWarning: calling yaml.load() without Loader=... is deprecated, as the default Loader is unsafe. Please read https://msg.pyyaml.org/load for full details.\n",
      "  data = load(fh)\n"
     ]
    }
   ],
   "source": [
    "import numpy as np\n",
    "import mdtraj\n",
    "import mdshare\n",
    "import matplotlib.pyplot as plt"
   ]
  },
  {
   "cell_type": "code",
   "execution_count": 2,
   "metadata": {},
   "outputs": [],
   "source": [
    "pdb = 'alanine-dipeptide-nowater.pdb'\n",
    "files = mdshare.fetch('alanine-dipeptide-*-250ns-nowater.xtc', \n",
    "                      working_directory='.')"
   ]
  },
  {
   "cell_type": "code",
   "execution_count": 3,
   "metadata": {},
   "outputs": [],
   "source": [
    "trajs = [mdtraj.load(f, top=pdb) for f in files]"
   ]
  },
  {
   "cell_type": "code",
   "execution_count": 4,
   "metadata": {},
   "outputs": [],
   "source": [
    "phis = [mdtraj.compute_phi(t)[1] for t in trajs]\n",
    "psis = [mdtraj.compute_psi(t)[1] for t in trajs]\n",
    "dihedrals = [np.hstack([_phi, _psi]) for _phi, _psi in zip(phis, psis)]"
   ]
  },
  {
   "cell_type": "code",
   "execution_count": 5,
   "metadata": {},
   "outputs": [
    {
     "data": {
      "image/png": "[encoded data removed]",
      "text/plain": [
       "<Figure size 432x288 with 1 Axes>"
      ]
     },
     "metadata": {
      "needs_background": "light"
     },
     "output_type": "display_data"
    }
   ],
   "source": [
    "plt.hist2d(*np.concatenate(dihedrals).T, bins=100, cmap='Blues', );"
   ]
  },
  {
   "cell_type": "markdown",
   "metadata": {},
   "source": [
    "The so called 'free energy landscape' can be computed using the Boltzmann distribution\n",
    "\n",
    "$$ p \\approx exp(-U/k_B T) \\leftrightarrow U = -k_B T ln(p)$$\n",
    "\n",
    "Since we do not know the partition function, we can only show relative free energies. Please note that histogram only approximates the probability distribution, we assume that our data is in equilibrium sample."
   ]
  },
  {
   "cell_type": "code",
   "execution_count": 6,
   "metadata": {},
   "outputs": [
    {
     "data": {
      "image/png": "[encoded data removed]",
      "text/plain": [
       "<Figure size 432x288 with 1 Axes>"
      ]
     },
     "metadata": {
      "needs_background": "light"
     },
     "output_type": "display_data"
    }
   ],
   "source": [
    "plt.hist2d(np.concatenate(dihedrals)[:, 0], \n",
    "           np.concatenate(dihedrals)[:, 1], \n",
    "           bins=100, cmap='viridis_r', \n",
    "           norm=plt.matplotlib.colors.LogNorm())\n",
    "plt.xlabel(r'$\\varphi$')\n",
    "plt.ylabel(r'$\\psi$');"
   ]
  },
  {
   "cell_type": "code",
   "execution_count": 7,
   "metadata": {},
   "outputs": [],
   "source": [
    "# compute the 2D histogram with numpy using 256 bins\n",
    "hist, x_edges, y_edges = np.histogram2d(np.concatenate(dihedrals)[:, 0], \n",
    "                                        np.concatenate(dihedrals)[:, 1],\n",
    "                                        256);"
   ]
  },
  {
   "cell_type": "code",
   "execution_count": 8,
   "metadata": {},
   "outputs": [
    {
     "data": {
      "text/plain": [
       "((256, 256), (257,), (257,))"
      ]
     },
     "execution_count": 8,
     "metadata": {},
     "output_type": "execute_result"
    }
   ],
   "source": [
    "# note that the histogram function gives back \"edges\" of our bins, i.e.\n",
    "# the left and right boundary of each bin. \n",
    "# that is one more than we have counts in each dimension.\n",
    "hist.shape, x_edges.shape, y_edges.shape"
   ]
  },
  {
   "cell_type": "code",
   "execution_count": 9,
   "metadata": {},
   "outputs": [
    {
     "name": "stdout",
     "output_type": "stream",
     "text": [
      "[78] [235]\n"
     ]
    }
   ],
   "source": [
    "# find the indices of the histogram where the histogram is max\n",
    "# as `hist` is 2 dimensional, we get two indices\n",
    "# one for each dimension\n",
    "\n",
    "x_max_ind, y_max_ind = np.where(hist == hist.max())\n",
    "print(x_max_ind, y_max_ind)\n",
    "\n",
    "# compute the center of the bins in both x and y direction\n",
    "x_bin = x_edges[x_max_ind[0]:x_max_ind[0]+2]\n",
    "x_max = x_bin.mean()\n",
    "\n",
    "y_bin = y_edges[y_max_ind[0]:y_max_ind[0]+2]\n",
    "y_max = y_bin.mean()"
   ]
  },
  {
   "cell_type": "code",
   "execution_count": 10,
   "metadata": {},
   "outputs": [
    {
     "data": {
      "image/png": "[encoded data removed]",
      "text/plain": [
       "<Figure size 432x288 with 1 Axes>"
      ]
     },
     "metadata": {
      "needs_background": "light"
     },
     "output_type": "display_data"
    }
   ],
   "source": [
    "plt.hist2d(np.concatenate(dihedrals)[:, 0], \n",
    "           np.concatenate(dihedrals)[:, 1], \n",
    "           bins=100, cmap='viridis_r', \n",
    "           norm=plt.matplotlib.colors.LogNorm())\n",
    "plt.scatter(x_max, y_max, marker='x', color='r', label='bin with highest population')\n",
    "\n",
    "plt.xlabel(r'$\\varphi$')\n",
    "plt.ylabel(r'$\\psi$')\n",
    "plt.legend();"
   ]
  },
  {
   "cell_type": "code",
   "execution_count": null,
   "metadata": {},
   "outputs": [],
   "source": []
  }
 ],
 "metadata": {
  "kernelspec": {
   "display_name": "Python 3",
   "language": "python",
   "name": "python3"
  },
  "language_info": {
   "codemirror_mode": {
    "name": "ipython",
    "version": 3
   },
   "file_extension": ".py",
   "mimetype": "text/x-python",
   "name": "python",
   "nbconvert_exporter": "python",
   "pygments_lexer": "ipython3",
   "version": "3.8.5"
  }
 },
 "nbformat": 4,
 "nbformat_minor": 4
}
