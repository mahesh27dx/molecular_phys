{
 "cells": [
  {
   "cell_type": "code",
   "execution_count": 1,
   "metadata": {},
   "outputs": [],
   "source": [
    "import numpy as np"
   ]
  },
  {
   "cell_type": "markdown",
   "metadata": {},
   "source": [
    "We are using a GROMOS type force field here which splits the potential for dihedral angles into two contributions, proper and improper dihedrals. You can use this as a starting point for the worksheet. Note that below, only 2 of 4 bonded interaction terms are implemented."
   ]
  },
  {
   "cell_type": "code",
   "execution_count": 2,
   "metadata": {},
   "outputs": [],
   "source": [
    "# load parameters\n",
    "\n",
    "# proper dihedrals\n",
    "pd_i, pd_j, pd_k, pd_l, phi_0, k_phi, mult = np.loadtxt('dihedrals_proper.dat', unpack=True)\n",
    "pdih = np.vstack((pd_i, \n",
    "                  pd_j,\n",
    "                  pd_k,\n",
    "                  pd_l)).T\n",
    "\n",
    "\n",
    "# improper dihedrals\n",
    "id_i, id_j, id_k, id_l, xsi_0, k_xsi = np.loadtxt('dihedrals_improper.dat', unpack=True)\n",
    "idih = np.vstack((id_i, \n",
    "                  id_j,\n",
    "                  id_k,\n",
    "                  id_l)).T\n",
    "\n",
    "\n",
    "# lennard jones and charges\n",
    "charges, sigma_i, epsilon_i = np.loadtxt('non_bonded.dat', usecols=(1,2,3), unpack=True)"
   ]
  },
  {
   "cell_type": "code",
   "execution_count": null,
   "metadata": {},
   "outputs": [],
   "source": [
    "# define functions that represent the potential\n",
    "\n",
    "def U_proper_dih_gmx(phi, mult, phi_0, k_phi):\n",
    "    U = k_phi * (1. + np.cos(mult * phi - phi_0))\n",
    "    return U\n",
    "\n",
    "def U_improper_dih(xsi, xsi_0, k_xsi):\n",
    "    U = .5 * k_xsi * (xsi - xsi_0)**2\n",
    "    return U"
   ]
  }
 ],
 "metadata": {
  "kernelspec": {
   "display_name": "Python 3",
   "language": "python",
   "name": "python3"
  },
  "language_info": {
   "codemirror_mode": {
    "name": "ipython",
    "version": 3
   },
   "file_extension": ".py",
   "mimetype": "text/x-python",
   "name": "python",
   "nbconvert_exporter": "python",
   "pygments_lexer": "ipython3",
   "version": "3.7.6"
  }
 },
 "nbformat": 4,
 "nbformat_minor": 4
}
