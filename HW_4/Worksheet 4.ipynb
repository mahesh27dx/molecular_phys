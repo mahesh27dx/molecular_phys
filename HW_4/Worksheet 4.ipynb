{
 "cells": [
  {
   "cell_type": "markdown",
   "metadata": {},
   "source": [
    "# Task 1"
   ]
  },
  {
   "cell_type": "code",
   "execution_count": 1,
   "metadata": {},
   "outputs": [],
   "source": [
    "import numpy as np"
   ]
  },
  {
   "cell_type": "markdown",
   "metadata": {},
   "source": [
    "We are using a GROMOS type force field here which splits the potential for dihedral angles into two contributions, proper and improper dihedrals. You can use this as a starting point for the worksheet. Note that below, only 2 of 4 bonded interaction terms are implemented."
   ]
  },
  {
   "cell_type": "code",
   "execution_count": 2,
   "metadata": {},
   "outputs": [],
   "source": [
    "# load parameters\n",
    "\n",
    "# proper dihedrals\n",
    "pd_i, pd_j, pd_k, pd_l, phi_0, k_phi, mult = np.loadtxt('dihedrals_proper.dat', unpack=True)\n",
    "pdih = np.vstack((pd_i, \n",
    "                  pd_j,\n",
    "                  pd_k,\n",
    "                  pd_l)).T\n",
    "\n",
    "\n",
    "# improper dihedrals\n",
    "id_i, id_j, id_k, id_l, xsi_0, k_xsi = np.loadtxt('dihedrals_improper.dat', unpack=True)\n",
    "idih = np.vstack((id_i, \n",
    "                  id_j,\n",
    "                  id_k,\n",
    "                  id_l)).T\n",
    "\n",
    "\n",
    "# lennard jones and charges\n",
    "charges, sigma_i, epsilon_i = np.loadtxt('non_bonded.dat', usecols=(1,2,3), unpack=True)"
   ]
  },
  {
   "cell_type": "code",
   "execution_count": 3,
   "metadata": {},
   "outputs": [],
   "source": [
    "# define functions that represent the potential\n",
    "\n",
    "def U_proper_dih_gmx(phi, mult, phi_0, k_phi):\n",
    "    U = k_phi * (1. + np.cos(mult * phi - phi_0))\n",
    "    return U\n",
    "\n",
    "def U_improper_dih(xsi, xsi_0, k_xsi):\n",
    "    U = .5 * k_xsi * (xsi - xsi_0)**2\n",
    "    return U"
   ]
  },
  {
   "cell_type": "markdown",
   "metadata": {},
   "source": [
    "Load parameters for angles and bonds. Define functions to calculate the "
   ]
  },
  {
   "cell_type": "code",
   "execution_count": 17,
   "metadata": {},
   "outputs": [
    {
     "name": "stdout",
     "output_type": "stream",
     "text": [
      "49\n",
      "49\n",
      "49\n",
      "49\n",
      "32\n"
     ]
    }
   ],
   "source": [
    "#angles\n",
    "a_i, a_j, a_k, theta_0, k_theta = np.loadtxt('angles.dat', unpack=True)\n",
    "\n",
    "#bonds\n",
    "b_i, b_j, r_0, k_b = np.loadtxt('bonds.dat',unpack=True)\n",
    "print(a_i.size)\n",
    "print(a_j.size)\n",
    "print(theta_0.size)\n",
    "print(k_theta.size)\n",
    "print(r_0.size)"
   ]
  },
  {
   "cell_type": "code",
   "execution_count": 5,
   "metadata": {},
   "outputs": [],
   "source": [
    "def U_angles(theta, theta_0, k_theta):\n",
    "    U = 0.5*k_theta*(theta-theta_0)**2\n",
    "    return U\n",
    "\n",
    "def U_bonds(r, r_0, k_b):\n",
    "    U = 0.5*k_b*(r-r_0)**2\n",
    "    return U"
   ]
  },
  {
   "cell_type": "code",
   "execution_count": 6,
   "metadata": {},
   "outputs": [],
   "source": [
    "import matplotlib.pyplot as plt"
   ]
  },
  {
   "cell_type": "code",
   "execution_count": 27,
   "metadata": {},
   "outputs": [
    {
     "data": {
      "text/plain": [
       "[<matplotlib.lines.Line2D at 0x7fcbfecc7e80>]"
      ]
     },
     "execution_count": 27,
     "metadata": {},
     "output_type": "execute_result"
    },
    {
     "data": {
      "image/png": "[encoded data removed]",
      "text/plain": [
       "<Figure size 432x288 with 1 Axes>"
      ]
     },
     "metadata": {
      "needs_background": "light"
     },
     "output_type": "display_data"
    }
   ],
   "source": [
    "r = b_i \n",
    "#plt.plot(a_j, U_angles(theta_0, theta_0, k_theta))\n",
    "plt.plot(r_0, U_bonds(r, r_0, k_b))"
   ]
  },
  {
   "cell_type": "code",
   "execution_count": null,
   "metadata": {},
   "outputs": [],
   "source": []
  }
 ],
 "metadata": {
  "kernelspec": {
   "display_name": "Python 3",
   "language": "python",
   "name": "python3"
  },
  "language_info": {
   "codemirror_mode": {
    "name": "ipython",
    "version": 3
   },
   "file_extension": ".py",
   "mimetype": "text/x-python",
   "name": "python",
   "nbconvert_exporter": "python",
   "pygments_lexer": "ipython3",
   "version": "3.8.5"
  }
 },
 "nbformat": 4,
 "nbformat_minor": 4
}
