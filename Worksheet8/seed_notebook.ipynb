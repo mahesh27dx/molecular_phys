{
 "cells": [
  {
   "cell_type": "markdown",
   "metadata": {},
   "source": [
    " # Worksheet 8: Coarse-grained modeles"
   ]
  },
  {
   "cell_type": "code",
   "execution_count": 1,
   "metadata": {
    "ExecuteTime": {
     "end_time": "2021-01-21T09:37:31.324579Z",
     "start_time": "2021-01-21T09:37:30.903357Z"
    }
   },
   "outputs": [],
   "source": [
    "# put import statements here\n",
    "import numpy as np\n",
    "import mdtraj as md\n",
    "import simtk.openmm as mm\n"
   ]
  },
  {
   "cell_type": "code",
   "execution_count": 2,
   "metadata": {
    "ExecuteTime": {
     "end_time": "2021-01-21T09:37:31.330166Z",
     "start_time": "2021-01-21T09:37:31.326690Z"
    }
   },
   "outputs": [],
   "source": [
    "# Force field parametrization constants\n",
    "ATOM_MASS = 1.0         # a.u.\n",
    "BOND_STRENGTH = 20000.0 # kJ/(nm**2 mol)\n",
    "ANGLE_STRENGTH = 40.0   # kJ/(mol rad**2)\n",
    "NONNATIVE_SIGMA = 0.4   # nm, excluded radius for nonnative interactions\n",
    "\n",
    "# CG modeling parameters\n",
    "TEMPERATURE = 132   # K,  modeling temperature\n",
    "STRIDE = 1000       # steps, record coordinates every STRIDE steps\n",
    "STEPSIZE = 0.0005   # ps,  integration step\n",
    "FRICTION = 1        # 1/ps, friction coefficient for LangevinIntegrator"
   ]
  },
  {
   "cell_type": "code",
   "execution_count": 3,
   "metadata": {
    "ExecuteTime": {
     "end_time": "2021-01-21T09:37:31.334737Z",
     "start_time": "2021-01-21T09:37:31.332257Z"
    }
   },
   "outputs": [],
   "source": [
    "# Input files\n",
    "pdb_code = '1PGB'\n",
    "aa_pdb_file = f'{pdb_code}.pdb'  # aa stands for all-atom\n",
    "native_contacts_file = '1PGB_native_contacts.dat' # Each row contains the pair of native contacts, indexed from 0"
   ]
  },
  {
   "cell_type": "markdown",
   "metadata": {},
   "source": [
    "## Task 1: Model building  and simulation"
   ]
  },
  {
   "cell_type": "code",
   "execution_count": 4,
   "metadata": {
    "ExecuteTime": {
     "end_time": "2021-01-21T09:37:31.340748Z",
     "start_time": "2021-01-21T09:37:31.336732Z"
    }
   },
   "outputs": [],
   "source": [
    "native_contacts  = np.loadtxt(native_contacts_file,dtype=int)"
   ]
  },
  {
   "cell_type": "code",
   "execution_count": 5,
   "metadata": {
    "ExecuteTime": {
     "end_time": "2021-01-21T09:37:31.353981Z",
     "start_time": "2021-01-21T09:37:31.342627Z"
    }
   },
   "outputs": [],
   "source": [
    "def add_nonbonded_interactions(ca_structure, system, native_contacts):\n",
    "    \"\"\"\n",
    "    Add nonbonded interactions to OpenMM System object\n",
    "    \n",
    "    Parameters\n",
    "    ----------\n",
    "    ca_structure :  mdtraj.Trajectory object\n",
    "        Trajectory that contains native structure for the CG model.\n",
    "        If more than one frame provided, only the first frame will be used\n",
    "        and the rest will be discarded. \n",
    "    \n",
    "    native_contacts : numpy ndarray, dtype int\n",
    "        A Mx2 numpy array. Each row  represents a pair of residues that are in contact in the \n",
    "        native structure\n",
    "        \n",
    "    system : simtk.openmm.openmm.System object\n",
    "        Object to which forces should be added\n",
    "        \n",
    "    Returns\n",
    "    -------\n",
    "    system : simtk.openmm.openmm.System object\n",
    "       Modified system\n",
    "    \n",
    "    \"\"\"\n",
    "    # Add nonbonded interaction \n",
    "    n_atoms = ca_structure.top.n_atoms\n",
    "    nonbonded_force = mm.openmm.CustomNonbondedForce(\"(sigma/r)^12; sigma=sqrt(sigma1*sigma2)\")\n",
    "    nonbonded_force.addPerParticleParameter(\"sigma\")\n",
    "    for i in range(n_atoms):\n",
    "        nonbonded_force.addParticle([NONNATIVE_SIGMA])\n",
    "        \n",
    "    # Exclude 1-2, 1-3 and 1-4 interactions:\n",
    "    # Bond cutoff=3: atoms separated by 3 bonds or less are excluded\n",
    "    nonbonded_force.createExclusionsFromBonds(bonds=[[i, i+1] for i in range(n_atoms-1)], bondCutoff=3)\n",
    "            \n",
    "    # Add native interaction\n",
    "    native_force = mm.openmm.CustomBondForce(\"5.0*((rnot/r)^12) - 6.0*((rnot/r)^10)\")\n",
    "    native_force.addPerBondParameter(\"rnot\")\n",
    "    distances =  md.compute_distances(ca_structure, native_contacts)[0]\n",
    "    for ndx, contact in enumerate(native_contacts):\n",
    "        # OpenMM does not work correctly with numpy objects, all scalars should be \n",
    "        # explicitly converted\n",
    "        atom_1 = int(contact[0])\n",
    "        atom_2 = int(contact[1])\n",
    "        native_force.addBond(atom_1, atom_2, [float(distances[ndx])])\n",
    "        nonbonded_force.addExclusion(atom_1, atom_2)\n",
    "        \n",
    "    # Add forces to the system\n",
    "    system.addForce(nonbonded_force)\n",
    "    system.addForce(native_force)\n",
    "    return system \n",
    "                                     \n",
    "def add_dihedral_interactions(ca_structure, system):\n",
    "    \"\"\"\n",
    "    Add dihedral interactions to OpenMM System object\n",
    "    \n",
    "    Parameters\n",
    "    ----------\n",
    "    ca_structure :  mdtraj.Trajectory object\n",
    "        Trajectory that contains native structure for the CG model.\n",
    "        If more than one frame provided, only the first frame will be used\n",
    "        and the rest will be discarded. \n",
    "        \n",
    "    system : simtk.openmm.openmm.System object\n",
    "        Object to which forces should be added\n",
    "        \n",
    "    Returns\n",
    "    -------\n",
    "    system : simtk.openmm.openmm.System object\n",
    "       Modified system\n",
    "\n",
    "    \"\"\"\n",
    "    # Add dihedral angle potential. \n",
    "    atom_quadruples = [[i, i+1, i+2, i+3] for i in range(n_atoms - 3)]\n",
    "    dihedrals = md.compute_dihedrals(ca_structure, atom_quadruples)[0] \n",
    "    dihedral_force = mm.openmm.PeriodicTorsionForce()\n",
    "    for dihedral_ndx in range(n_atoms - 3):\n",
    "        dihedral_1 = dihedrals[dihedral_ndx] + np.pi\n",
    "        dihedral_2 = 3*(dihedrals[dihedral_ndx] + np.pi)\n",
    "        dihedral_force.addTorsion(*atom_quadruples[dihedral_ndx], 1, dihedral_1, 1.0)\n",
    "        dihedral_force.addTorsion(*atom_quadruples[dihedral_ndx], 3, dihedral_2, 0.5)\n",
    "    system.addForce(dihedral_force)\n",
    "    return system\n",
    "\n",
    "\n",
    "def save_system(system, name='OpenMM_system.xml'):\n",
    "    \"\"\"\n",
    "    Save OpenMM system object to a human readable xml file\n",
    "    \n",
    "    Parameters:\n",
    "    ----------- \n",
    "    \n",
    "    name : str, optional\n",
    "        Name of the file, should end with .xml extension\n",
    "        \n",
    "    system : simtk.openmm.openmm.System object\n",
    "    \"\"\"\n",
    "    with open(name, 'w') as f:\n",
    "        system_xml = mm.XmlSerializer.serialize(system)\n",
    "        f.write(system_xml) \n",
    "    return"
   ]
  },
  {
   "cell_type": "code",
   "execution_count": 6,
   "metadata": {
    "ExecuteTime": {
     "end_time": "2021-01-21T09:37:31.357537Z",
     "start_time": "2021-01-21T09:37:31.355461Z"
    }
   },
   "outputs": [],
   "source": [
    "# <add your code here>\n"
   ]
  },
  {
   "cell_type": "markdown",
   "metadata": {
    "ExecuteTime": {
     "end_time": "2021-01-14T13:30:41.187717Z",
     "start_time": "2021-01-14T13:30:41.184829Z"
    }
   },
   "source": [
    "## Task 2 Analysis"
   ]
  },
  {
   "cell_type": "code",
   "execution_count": 7,
   "metadata": {
    "ExecuteTime": {
     "end_time": "2021-01-21T09:37:31.363848Z",
     "start_time": "2021-01-21T09:37:31.359434Z"
    }
   },
   "outputs": [],
   "source": [
    "def get_fraction_native_contacts(traj, native_contacts, cutoff=1.15):\n",
    "    \"\"\"\n",
    "    Calculate fraction of formed native contacts for each frame in trajectory\n",
    "    \n",
    "    Parameters\n",
    "    ----------\n",
    "     traj :  mdtraj.Trajectory object\n",
    "     \n",
    "    native_contacts : numpy ndarray, dtype int\n",
    "        A Mx2 numpy array. Each row  represents a pair of residues that are in contact in the \n",
    "        native structure\n",
    "        \n",
    "    cutoff : float, optional\n",
    "        If two beads are separated by distance lower than `cutoff`, the contact is considered formed.\n",
    "        \n",
    "    Returns\n",
    "    -------\n",
    "    \n",
    "    fraction_of_contacts : 1d numpy ndarray\n",
    "        element i of the array represents fraction of native contact formed in that frame i of `traj`.\n",
    "\n",
    "    \"\"\"\n",
    "    distances = md.compute_distances(traj, native_contacts)\n",
    "    contact_formed = np.where(distances < cutoff, 1, 0)\n",
    "    num_of_contacts = np.sum(contact_formed, axis=1)\n",
    "    fraction_of_contacts = num_of_contacts/contact_formed.shape[1]\n",
    "    return(fraction_of_contacts)"
   ]
  },
  {
   "cell_type": "code",
   "execution_count": 8,
   "metadata": {
    "ExecuteTime": {
     "end_time": "2021-01-21T09:37:31.375301Z",
     "start_time": "2021-01-21T09:37:31.365849Z"
    }
   },
   "outputs": [],
   "source": [
    "# <add your code here>"
   ]
  },
  {
   "cell_type": "code",
   "execution_count": null,
   "metadata": {},
   "outputs": [],
   "source": []
  },
  {
   "cell_type": "code",
   "execution_count": null,
   "metadata": {},
   "outputs": [],
   "source": []
  }
 ],
 "metadata": {
  "kernelspec": {
   "display_name": "Python [conda env:myenv]",
   "language": "python",
   "name": "conda-env-myenv-py"
  },
  "language_info": {
   "codemirror_mode": {
    "name": "ipython",
    "version": 3
   },
   "file_extension": ".py",
   "mimetype": "text/x-python",
   "name": "python",
   "nbconvert_exporter": "python",
   "pygments_lexer": "ipython3",
   "version": "3.8.5"
  },
  "toc": {
   "base_numbering": 1,
   "nav_menu": {},
   "number_sections": true,
   "sideBar": true,
   "skip_h1_title": false,
   "title_cell": "Table of Contents",
   "title_sidebar": "Contents",
   "toc_cell": false,
   "toc_position": {},
   "toc_section_display": true,
   "toc_window_display": false
  }
 },
 "nbformat": 4,
 "nbformat_minor": 2
}
