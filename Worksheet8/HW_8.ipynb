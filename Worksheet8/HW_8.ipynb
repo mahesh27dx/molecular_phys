{
 "cells": [
  {
   "cell_type": "code",
   "execution_count": null,
   "metadata": {
    "colab": {
     "base_uri": "https://localhost:8080/"
    },
    "id": "rTlxLZtkozB8",
    "outputId": "44f4f006-c338-4e96-aef5-8d7a6c18c99d"
   },
   "outputs": [],
   "source": [
    "#from google.colab import drive\n",
    "#drive.mount('/content/drive') "
   ]
  },
  {
   "cell_type": "code",
   "execution_count": null,
   "metadata": {
    "colab": {
     "base_uri": "https://localhost:8080/"
    },
    "id": "gU1HikBFrUqw",
    "outputId": "f5b021da-adcb-4b7d-9599-fb8fc24dbc03"
   },
   "outputs": [],
   "source": [
    "#!pip install -q condacolab \n",
    "#import condacolab\n",
    "#condacolab.install()"
   ]
  },
  {
   "cell_type": "code",
   "execution_count": null,
   "metadata": {
    "colab": {
     "base_uri": "https://localhost:8080/"
    },
    "id": "zsEE2qgwwG4w",
    "outputId": "20df1f86-8d01-4c98-d915-0a6eea68dc1c"
   },
   "outputs": [],
   "source": [
    "#!mamba install -q openmm \n",
    "#!mamba install -q mdtraj  \n",
    "#!mamba install -q mdshare \n",
    "#!mamba install -q nglview\n",
    "#!mamba install -q pyemma \n",
    "#!mamba install -q msmtools "
   ]
  },
  {
   "cell_type": "markdown",
   "metadata": {
    "id": "Owjvo0yRJMul"
   },
   "source": [
    "The tutorial aims to build a coarse-grained model of the B1 immunoglobulin-binding domain of streptococcal protein G (PDB code 1PGB, further referred to as protein G) that can capture folding-unfolding events."
   ]
  },
  {
   "cell_type": "markdown",
   "metadata": {
    "id": "qEjXA9D8Jr1k"
   },
   "source": [
    "**Task 1**"
   ]
  },
  {
   "cell_type": "markdown",
   "metadata": {
    "id": "hUzSGcMrJsKZ"
   },
   "source": [
    "In this task, we will build a structure-based model of protein G and perform a short simulation. We will represent each residue as a single atom with unit mass, with each pair of consecutive atoms connected by a bond. Interactions between atoms are defined as followed:"
   ]
  },
  {
   "cell_type": "markdown",
   "metadata": {
    "id": "kUmFecvAKWv9"
   },
   "source": [
    "$$\n",
    "V = V_{bond} + V_{angle} + V_{dihedral} + V_{nonbonded}\n",
    "$$\n",
    "\n",
    "$$\n",
    "V_{bond} = \\sum_{bond} \\frac{Kr}{2} (r - r_0)^2\n",
    "$$\n",
    "\n",
    "$$\n",
    "V_{angle} = \\sum{angle} \\frac{K_{\\theta}}{2} (\\theta - \\theta_0)^2\n",
    "$$\n",
    "\n",
    "$$\n",
    "V_{dihedral} = \\sum_{dihedral} [(1 - cos(\\phi - \\phi_0)) + 0.5 (1 - cos(3*(\\phi - \\phi_0))]\n",
    "$$\n",
    "\n",
    "$$\n",
    "V_{nonbonded} = \\sum_{native} 5 \\left(\\frac{r_0}{2}  \\right)^{12} - 6\\left(\\frac{r_0}{2}  \\right)^{10} + \\sum_{non-native} \\left(\\frac{\\sigma}{r}  \\right)^{12}\n",
    "$$   \n",
    "In these equations, $r_0, \\theta_0 , \\Psi_0$, represent distances, angles and dihedral angles found in native structure. Values for $K_{\\theta}, \\sigma, K_r$ you can find in seed_notebook. We will build this model using tools provided by the OpenMM package.  "
   ]
  },
  {
   "cell_type": "markdown",
   "metadata": {
    "id": "OPordEGWKYhu"
   },
   "source": [
    "**1.1)** You are given a file '1PGB.pdb'. It is a pdb file that contains native structure of protein G. Using mdtraj, create a pdb file that contains only $C\\alpha$ atoms and their respective positions. This file represents a topologynof our model. **Hint:** mdtraj.trajectory.atom_slice method may be useful(1 pt)."
   ]
  },
  {
   "cell_type": "code",
   "execution_count": 18,
   "metadata": {
    "colab": {
     "base_uri": "https://localhost:8080/",
     "height": 17,
     "referenced_widgets": [
      "882311e98dd94e4faac0a2f87c8dd330"
     ]
    },
    "id": "uVCzmlg2zAwv",
    "outputId": "6898ed7d-9c06-4a8b-d335-57a80d2239d6"
   },
   "outputs": [],
   "source": [
    "from sys import stdout\n",
    "from simtk.openmm.app import *\n",
    "from simtk.openmm import *\n",
    "from simtk.unit import *\n",
    "import numpy as np\n",
    "import mdtraj as md\n",
    "import pandas\n",
    "import matplotlib.pyplot as plt\n",
    "import nglview\n",
    "import pdbfixer"
   ]
  },
  {
   "cell_type": "code",
   "execution_count": 19,
   "metadata": {},
   "outputs": [],
   "source": [
    "#fixer = pdbfixer.PDBFixer(pdbid='1PGB')"
   ]
  },
  {
   "cell_type": "code",
   "execution_count": 20,
   "metadata": {},
   "outputs": [],
   "source": [
    "#fixer.findMissingResidues()\n",
    "#print(fixer.missingResidues)\n",
    "\n",
    "#fixer.findNonstandardResidues()\n",
    "#print(fixer.nonstandardResidues)\n",
    "\n",
    "#fixer.findMissingAtoms()\n",
    "#print(fixer.missingAtoms)"
   ]
  },
  {
   "cell_type": "code",
   "execution_count": 21,
   "metadata": {},
   "outputs": [],
   "source": [
    "main_pdb = md.load_pdb('1PGB.pdb')"
   ]
  },
  {
   "cell_type": "code",
   "execution_count": 22,
   "metadata": {},
   "outputs": [],
   "source": [
    "atoms_to_keep = [atom.index for atom in main_pdb.topology.atoms if atom.name == 'CA']"
   ]
  },
  {
   "cell_type": "code",
   "execution_count": 23,
   "metadata": {
    "id": "BBZ_tW6VzBEl"
   },
   "outputs": [],
   "source": [
    "new_pdb = main_pdb.atom_slice(atoms_to_keep)"
   ]
  },
  {
   "cell_type": "code",
   "execution_count": 24,
   "metadata": {
    "colab": {
     "base_uri": "https://localhost:8080/"
    },
    "id": "bLl0HC7bCDNn",
    "outputId": "d9aeb23e-69e4-45ab-fc10-8ae88e24374c"
   },
   "outputs": [],
   "source": [
    "new_pdb.save('CA_only.pdb')"
   ]
  },
  {
   "cell_type": "code",
   "execution_count": null,
   "metadata": {
    "colab": {
     "base_uri": "https://localhost:8080/",
     "height": 419
    },
    "id": "LNQZiKOkCDYm",
    "outputId": "a7b6bfac-da0d-47f1-db27-11c066c0f79a"
   },
   "outputs": [],
   "source": [
    "#atoms, bonds = coord.topology.to_dataframe()\n",
    "#atoms"
   ]
  },
  {
   "cell_type": "code",
   "execution_count": null,
   "metadata": {
    "id": "W5q-NjBb7e91"
   },
   "outputs": [],
   "source": [
    "#atoms_to_keep = [a.index for a in coord.topology.atoms if a.name == 'CA']\n",
    "#new_coord = coord.restrict_atoms(atoms_to_keep)\n",
    "#coord.save('CA-only.pdb')"
   ]
  },
  {
   "cell_type": "code",
   "execution_count": null,
   "metadata": {
    "colab": {
     "base_uri": "https://localhost:8080/",
     "height": 1000
    },
    "id": "55BC-V7d7fCr",
    "outputId": "ccdaf1cb-fb4c-4c58-ab7b-b8450d2ed3c6"
   },
   "outputs": [],
   "source": [
    "#atoms, bonds = new_coord.topology.to_dataframe()\n",
    "#atoms"
   ]
  },
  {
   "cell_type": "markdown",
   "metadata": {
    "id": "UyAVt2Bd3X82"
   },
   "source": [
    "**1.2)** Create a simtk.openmm.app.topology.Topology object. Add a chain, all the residues, one CA atom per residue, and bonds between atoms from consecutive residues (1 pt)."
   ]
  },
  {
   "cell_type": "code",
   "execution_count": 25,
   "metadata": {
    "id": "4K2vxSKj7fPX"
   },
   "outputs": [],
   "source": [
    "pdb = PDBFile('CA_only.pdb')\n",
    "#pdb = md.load('CA_only.pdb')\n",
    "#main_pdb = PDBFile('1PGB.pdb')"
   ]
  },
  {
   "cell_type": "code",
   "execution_count": 26,
   "metadata": {},
   "outputs": [],
   "source": [
    "forcefield = ForceField('amber99sbildn.xml', 'tip3p.xml')"
   ]
  },
  {
   "cell_type": "code",
   "execution_count": 13,
   "metadata": {},
   "outputs": [],
   "source": [
    "top = pdb.getTopology()\n",
    "bonds = list(top.bonds())\n",
    "for b in bonds:\n",
    "    names = [b.atom1.name, b.atom2.name]\n",
    "    if 'CA' in names:\n",
    "        print(names, b.atom1.index, b.atom2.index)\n",
    "    else:\n",
    "        print('no Ca')"
   ]
  },
  {
   "cell_type": "code",
   "execution_count": null,
   "metadata": {},
   "outputs": [],
   "source": []
  },
  {
   "cell_type": "code",
   "execution_count": null,
   "metadata": {},
   "outputs": [],
   "source": []
  },
  {
   "cell_type": "code",
   "execution_count": null,
   "metadata": {},
   "outputs": [],
   "source": []
  },
  {
   "cell_type": "code",
   "execution_count": null,
   "metadata": {},
   "outputs": [],
   "source": []
  },
  {
   "cell_type": "code",
   "execution_count": 47,
   "metadata": {},
   "outputs": [],
   "source": [
    "top = topology.Topology"
   ]
  },
  {
   "cell_type": "code",
   "execution_count": 66,
   "metadata": {},
   "outputs": [
    {
     "ename": "TypeError",
     "evalue": "addChain() missing 1 required positional argument: 'self'",
     "output_type": "error",
     "traceback": [
      "\u001b[0;31m---------------------------------------------------------------------------\u001b[0m",
      "\u001b[0;31mTypeError\u001b[0m                                 Traceback (most recent call last)",
      "\u001b[0;32m<ipython-input-66-a69b6001293c>\u001b[0m in \u001b[0;36m<module>\u001b[0;34m\u001b[0m\n\u001b[0;32m----> 1\u001b[0;31m \u001b[0mchain\u001b[0m\u001b[0;34m=\u001b[0m\u001b[0mtop\u001b[0m\u001b[0;34m.\u001b[0m\u001b[0maddChain\u001b[0m\u001b[0;34m(\u001b[0m\u001b[0mid\u001b[0m\u001b[0;34m=\u001b[0m\u001b[0;34m'A'\u001b[0m\u001b[0;34m)\u001b[0m\u001b[0;34m\u001b[0m\u001b[0;34m\u001b[0m\u001b[0m\n\u001b[0m",
      "\u001b[0;31mTypeError\u001b[0m: addChain() missing 1 required positional argument: 'self'"
     ]
    }
   ],
   "source": [
    "chain=top.addChain(id='A')"
   ]
  },
  {
   "cell_type": "code",
   "execution_count": 73,
   "metadata": {},
   "outputs": [
    {
     "ename": "NameError",
     "evalue": "name 'MET' is not defined",
     "output_type": "error",
     "traceback": [
      "\u001b[0;31m---------------------------------------------------------------------------\u001b[0m",
      "\u001b[0;31mNameError\u001b[0m                                 Traceback (most recent call last)",
      "\u001b[0;32m<ipython-input-73-7732cba036a8>\u001b[0m in \u001b[0;36m<module>\u001b[0;34m\u001b[0m\n\u001b[0;32m----> 1\u001b[0;31m \u001b[0mresidue\u001b[0m \u001b[0;34m=\u001b[0m \u001b[0mtop\u001b[0m\u001b[0;34m.\u001b[0m\u001b[0maddResidue\u001b[0m\u001b[0;34m(\u001b[0m\u001b[0mMET\u001b[0m\u001b[0;34m,\u001b[0m \u001b[0;36m0\u001b[0m\u001b[0;34m)\u001b[0m\u001b[0;34m\u001b[0m\u001b[0;34m\u001b[0m\u001b[0m\n\u001b[0m",
      "\u001b[0;31mNameError\u001b[0m: name 'MET' is not defined"
     ]
    }
   ],
   "source": [
    "residue = top.addResidue(MET, 0)"
   ]
  },
  {
   "cell_type": "code",
   "execution_count": 16,
   "metadata": {},
   "outputs": [
    {
     "ename": "TypeError",
     "evalue": "addResidue() missing 3 required positional arguments: 'self', 'name', and 'chain'",
     "output_type": "error",
     "traceback": [
      "\u001b[0;31m---------------------------------------------------------------------------\u001b[0m",
      "\u001b[0;31mTypeError\u001b[0m                                 Traceback (most recent call last)",
      "\u001b[0;32m<ipython-input-16-873e53a4ae2b>\u001b[0m in \u001b[0;36m<module>\u001b[0;34m\u001b[0m\n\u001b[0;32m----> 1\u001b[0;31m \u001b[0mtop\u001b[0m\u001b[0;34m.\u001b[0m\u001b[0maddResidue\u001b[0m\u001b[0;34m(\u001b[0m\u001b[0;34m)\u001b[0m\u001b[0;34m\u001b[0m\u001b[0;34m\u001b[0m\u001b[0m\n\u001b[0m",
      "\u001b[0;31mTypeError\u001b[0m: addResidue() missing 3 required positional arguments: 'self', 'name', and 'chain'"
     ]
    }
   ],
   "source": [
    "top.addResidue()"
   ]
  },
  {
   "cell_type": "code",
   "execution_count": null,
   "metadata": {},
   "outputs": [],
   "source": []
  },
  {
   "cell_type": "code",
   "execution_count": 17,
   "metadata": {
    "colab": {
     "base_uri": "https://localhost:8080/",
     "height": 392
    },
    "id": "Iz6TlFAV7fTn",
    "outputId": "38ba1f4b-35e4-406d-cd1c-7052f1fbb2ee",
    "scrolled": true
   },
   "outputs": [
    {
     "ename": "ValueError",
     "evalue": "No template found for residue 1 (MET).  This might mean your input topology is missing some atoms or bonds, or possibly that you are using the wrong force field.",
     "output_type": "error",
     "traceback": [
      "\u001b[0;31m---------------------------------------------------------------------------\u001b[0m",
      "\u001b[0;31mValueError\u001b[0m                                Traceback (most recent call last)",
      "\u001b[0;32m<ipython-input-17-ca503396942a>\u001b[0m in \u001b[0;36m<module>\u001b[0;34m\u001b[0m\n\u001b[0;32m----> 1\u001b[0;31m \u001b[0msystem\u001b[0m \u001b[0;34m=\u001b[0m \u001b[0mforcefield\u001b[0m\u001b[0;34m.\u001b[0m\u001b[0mcreateSystem\u001b[0m\u001b[0;34m(\u001b[0m\u001b[0mpdb\u001b[0m\u001b[0;34m.\u001b[0m\u001b[0mtopology\u001b[0m\u001b[0;34m)\u001b[0m\u001b[0;34m\u001b[0m\u001b[0;34m\u001b[0m\u001b[0m\n\u001b[0m\u001b[1;32m      2\u001b[0m \u001b[0;31m#integrator = LangevinMiddleIntegrator(300*kelvin, 1/picosecond, 0.004*picoseconds)\u001b[0m\u001b[0;34m\u001b[0m\u001b[0;34m\u001b[0m\u001b[0;34m\u001b[0m\u001b[0m\n",
      "\u001b[0;32m~/opt/anaconda3/envs/myenv/lib/python3.8/site-packages/simtk/openmm/app/forcefield.py\u001b[0m in \u001b[0;36mcreateSystem\u001b[0;34m(self, topology, nonbondedMethod, nonbondedCutoff, constraints, rigidWater, removeCMMotion, hydrogenMass, residueTemplates, ignoreExternalBonds, switchDistance, flexibleConstraints, drudeMass, **args)\u001b[0m\n\u001b[1;32m   1175\u001b[0m         \u001b[0;31m# Find the template matching each residue and assign atom types.\u001b[0m\u001b[0;34m\u001b[0m\u001b[0;34m\u001b[0m\u001b[0;34m\u001b[0m\u001b[0m\n\u001b[1;32m   1176\u001b[0m \u001b[0;34m\u001b[0m\u001b[0m\n\u001b[0;32m-> 1177\u001b[0;31m         \u001b[0mtemplateForResidue\u001b[0m \u001b[0;34m=\u001b[0m \u001b[0mself\u001b[0m\u001b[0;34m.\u001b[0m\u001b[0m_matchAllResiduesToTemplates\u001b[0m\u001b[0;34m(\u001b[0m\u001b[0mdata\u001b[0m\u001b[0;34m,\u001b[0m \u001b[0mtopology\u001b[0m\u001b[0;34m,\u001b[0m \u001b[0mresidueTemplates\u001b[0m\u001b[0;34m,\u001b[0m \u001b[0mignoreExternalBonds\u001b[0m\u001b[0;34m)\u001b[0m\u001b[0;34m\u001b[0m\u001b[0;34m\u001b[0m\u001b[0m\n\u001b[0m\u001b[1;32m   1178\u001b[0m         \u001b[0;32mfor\u001b[0m \u001b[0mres\u001b[0m \u001b[0;32min\u001b[0m \u001b[0mtopology\u001b[0m\u001b[0;34m.\u001b[0m\u001b[0mresidues\u001b[0m\u001b[0;34m(\u001b[0m\u001b[0;34m)\u001b[0m\u001b[0;34m:\u001b[0m\u001b[0;34m\u001b[0m\u001b[0;34m\u001b[0m\u001b[0m\n\u001b[1;32m   1179\u001b[0m             \u001b[0;32mif\u001b[0m \u001b[0mres\u001b[0m\u001b[0;34m.\u001b[0m\u001b[0mname\u001b[0m \u001b[0;34m==\u001b[0m \u001b[0;34m'HOH'\u001b[0m\u001b[0;34m:\u001b[0m\u001b[0;34m\u001b[0m\u001b[0;34m\u001b[0m\u001b[0m\n",
      "\u001b[0;32m~/opt/anaconda3/envs/myenv/lib/python3.8/site-packages/simtk/openmm/app/forcefield.py\u001b[0m in \u001b[0;36m_matchAllResiduesToTemplates\u001b[0;34m(self, data, topology, residueTemplates, ignoreExternalBonds, ignoreExtraParticles, recordParameters)\u001b[0m\n\u001b[1;32m   1389\u001b[0m                             \u001b[0;32mbreak\u001b[0m\u001b[0;34m\u001b[0m\u001b[0;34m\u001b[0m\u001b[0m\n\u001b[1;32m   1390\u001b[0m             \u001b[0;32mif\u001b[0m \u001b[0mmatches\u001b[0m \u001b[0;32mis\u001b[0m \u001b[0;32mNone\u001b[0m\u001b[0;34m:\u001b[0m\u001b[0;34m\u001b[0m\u001b[0;34m\u001b[0m\u001b[0m\n\u001b[0;32m-> 1391\u001b[0;31m                 \u001b[0;32mraise\u001b[0m \u001b[0mValueError\u001b[0m\u001b[0;34m(\u001b[0m\u001b[0;34m'No template found for residue %d (%s).  %s'\u001b[0m \u001b[0;34m%\u001b[0m \u001b[0;34m(\u001b[0m\u001b[0mres\u001b[0m\u001b[0;34m.\u001b[0m\u001b[0mindex\u001b[0m\u001b[0;34m+\u001b[0m\u001b[0;36m1\u001b[0m\u001b[0;34m,\u001b[0m \u001b[0mres\u001b[0m\u001b[0;34m.\u001b[0m\u001b[0mname\u001b[0m\u001b[0;34m,\u001b[0m \u001b[0m_findMatchErrors\u001b[0m\u001b[0;34m(\u001b[0m\u001b[0mself\u001b[0m\u001b[0;34m,\u001b[0m \u001b[0mres\u001b[0m\u001b[0;34m)\u001b[0m\u001b[0;34m)\u001b[0m\u001b[0;34m)\u001b[0m\u001b[0;34m\u001b[0m\u001b[0;34m\u001b[0m\u001b[0m\n\u001b[0m\u001b[1;32m   1392\u001b[0m             \u001b[0;32melse\u001b[0m\u001b[0;34m:\u001b[0m\u001b[0;34m\u001b[0m\u001b[0;34m\u001b[0m\u001b[0m\n\u001b[1;32m   1393\u001b[0m                 \u001b[0;32mif\u001b[0m \u001b[0mrecordParameters\u001b[0m\u001b[0;34m:\u001b[0m\u001b[0;34m\u001b[0m\u001b[0;34m\u001b[0m\u001b[0m\n",
      "\u001b[0;31mValueError\u001b[0m: No template found for residue 1 (MET).  This might mean your input topology is missing some atoms or bonds, or possibly that you are using the wrong force field."
     ]
    }
   ],
   "source": [
    "system = forcefield.createSystem(pdb.topology)\n",
    "#integrator = LangevinMiddleIntegrator(300*kelvin, 1/picosecond, 0.004*picoseconds)"
   ]
  },
  {
   "cell_type": "code",
   "execution_count": null,
   "metadata": {
    "id": "POd3EXZXCDi8"
   },
   "outputs": [],
   "source": []
  },
  {
   "cell_type": "code",
   "execution_count": null,
   "metadata": {
    "id": "NZbwpwiGCDs5"
   },
   "outputs": [],
   "source": []
  },
  {
   "cell_type": "code",
   "execution_count": null,
   "metadata": {
    "id": "Mc7av6ci4Ni7"
   },
   "outputs": [],
   "source": []
  },
  {
   "cell_type": "code",
   "execution_count": null,
   "metadata": {
    "id": "tr04PqLR4Nl1"
   },
   "outputs": [],
   "source": []
  },
  {
   "cell_type": "code",
   "execution_count": null,
   "metadata": {
    "id": "QbYyzFju4Noi"
   },
   "outputs": [],
   "source": []
  },
  {
   "cell_type": "code",
   "execution_count": null,
   "metadata": {
    "id": "qFoSafZM4NrI"
   },
   "outputs": [],
   "source": []
  },
  {
   "cell_type": "code",
   "execution_count": null,
   "metadata": {
    "id": "FZ-mGGQc4Nts"
   },
   "outputs": [],
   "source": []
  },
  {
   "cell_type": "code",
   "execution_count": null,
   "metadata": {
    "id": "IJBzHaEc4NwI"
   },
   "outputs": [],
   "source": []
  },
  {
   "cell_type": "code",
   "execution_count": null,
   "metadata": {
    "id": "K4KQaRx04NzM"
   },
   "outputs": [],
   "source": []
  }
 ],
 "metadata": {
  "accelerator": "GPU",
  "colab": {
   "collapsed_sections": [],
   "name": "HW_8.ipynb",
   "provenance": [],
   "toc_visible": true
  },
  "kernelspec": {
   "display_name": "Python [conda env:myenv]",
   "language": "python",
   "name": "conda-env-myenv-py"
  },
  "language_info": {
   "codemirror_mode": {
    "name": "ipython",
    "version": 3
   },
   "file_extension": ".py",
   "mimetype": "text/x-python",
   "name": "python",
   "nbconvert_exporter": "python",
   "pygments_lexer": "ipython3",
   "version": "3.8.5"
  },
  "widgets": {
   "application/vnd.jupyter.widget-state+json": {
    "882311e98dd94e4faac0a2f87c8dd330": {
     "model_module": "nglview-js-widgets",
     "model_name": "ColormakerRegistryModel",
     "state": {
      "_dom_classes": [],
      "_model_module": "nglview-js-widgets",
      "_model_module_version": "2.7.7",
      "_model_name": "ColormakerRegistryModel",
      "_msg_ar": [],
      "_msg_q": [],
      "_ready": false,
      "_view_count": null,
      "_view_module": "nglview-js-widgets",
      "_view_module_version": "2.7.7",
      "_view_name": "ColormakerRegistryView",
      "layout": "IPY_MODEL_3df3894b2d234f19bf3e211995683d8c"
     }
    }
   }
  }
 },
 "nbformat": 4,
 "nbformat_minor": 1
}
